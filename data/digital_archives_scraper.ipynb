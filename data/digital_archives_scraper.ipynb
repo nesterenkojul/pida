{
 "cells": [
  {
   "cell_type": "code",
   "execution_count": 1,
   "metadata": {},
   "outputs": [],
   "source": [
    "import pandas as pd\n",
    "import requests\n",
    "from bs4 import BeautifulSoup\n",
    "import urllib"
   ]
  },
  {
   "cell_type": "markdown",
   "metadata": {},
   "source": [
    "# Kyoto Costume Institute Digital Archives"
   ]
  },
  {
   "cell_type": "code",
   "execution_count": 7,
   "metadata": {},
   "outputs": [],
   "source": [
    "ITEMS_LIST = []\n",
    "\n",
    "def get_items_per_decade(decade):\n",
    "    try:\n",
    "        r = requests.get(f\"https://www.kci.or.jp/en/archives/digital_archives/{decade}s/index.html\")\n",
    "        page = BeautifulSoup(r.text, 'html.parser')\n",
    "        cards = page.find_all(class_=\"card js-cardCategory\")\n",
    "        for i, card in enumerate(cards):\n",
    "          id = str(decade) + '_' + str(i+1)\n",
    "          spec = card.find(class_=\"card__spec__year\").text \n",
    "          country = spec.split(' - ')[-1] if ' - ' in spec else 'unknown'\n",
    "          item_info = {\"ID\": id, \n",
    "                       \"Category\": card.find(class_=\"card__title\").text, \n",
    "                       \"Decade\": decade, \n",
    "                       \"Country\": None if 'unknown' in country.lower() else country}\n",
    "          img_url = card.find(class_=\"card__image\").get('src').replace(\"../../../..\", \"https://www.kci.or.jp\")\n",
    "          urllib.request.urlretrieve(img_url, f\"kci_imgs/{id}.jpg\")\n",
    "          ITEMS_LIST.append(item_info)\n",
    "       \n",
    "    except Exception as e:\n",
    "        if e is ConnectionError:\n",
    "            return \"ConErr\"\n",
    "        return None"
   ]
  },
  {
   "cell_type": "code",
   "execution_count": 8,
   "metadata": {},
   "outputs": [
    {
     "data": {
      "text/html": [
       "<div>\n",
       "<style scoped>\n",
       "    .dataframe tbody tr th:only-of-type {\n",
       "        vertical-align: middle;\n",
       "    }\n",
       "\n",
       "    .dataframe tbody tr th {\n",
       "        vertical-align: top;\n",
       "    }\n",
       "\n",
       "    .dataframe thead th {\n",
       "        text-align: right;\n",
       "    }\n",
       "</style>\n",
       "<table border=\"1\" class=\"dataframe\">\n",
       "  <thead>\n",
       "    <tr style=\"text-align: right;\">\n",
       "      <th></th>\n",
       "      <th>ID</th>\n",
       "      <th>Category</th>\n",
       "      <th>Decade</th>\n",
       "      <th>Country</th>\n",
       "    </tr>\n",
       "  </thead>\n",
       "  <tbody>\n",
       "    <tr>\n",
       "      <th>0</th>\n",
       "      <td>1890_1</td>\n",
       "      <td>Dress (Presentation Dress)</td>\n",
       "      <td>1890</td>\n",
       "      <td>None</td>\n",
       "    </tr>\n",
       "    <tr>\n",
       "      <th>1</th>\n",
       "      <td>1890_2</td>\n",
       "      <td>Day dress</td>\n",
       "      <td>1890</td>\n",
       "      <td>None</td>\n",
       "    </tr>\n",
       "    <tr>\n",
       "      <th>2</th>\n",
       "      <td>1890_3</td>\n",
       "      <td>Bracelet [lower], Belt [upper]</td>\n",
       "      <td>1890</td>\n",
       "      <td>Japan</td>\n",
       "    </tr>\n",
       "    <tr>\n",
       "      <th>3</th>\n",
       "      <td>1890_4</td>\n",
       "      <td>Vanity Case</td>\n",
       "      <td>1890</td>\n",
       "      <td>Japan</td>\n",
       "    </tr>\n",
       "    <tr>\n",
       "      <th>4</th>\n",
       "      <td>1890_5</td>\n",
       "      <td>Day Dress</td>\n",
       "      <td>1890</td>\n",
       "      <td>None</td>\n",
       "    </tr>\n",
       "    <tr>\n",
       "      <th>...</th>\n",
       "      <td>...</td>\n",
       "      <td>...</td>\n",
       "      <td>...</td>\n",
       "      <td>...</td>\n",
       "    </tr>\n",
       "    <tr>\n",
       "      <th>237</th>\n",
       "      <td>2010_5</td>\n",
       "      <td>ShoesãNOVA Shoeã</td>\n",
       "      <td>2010</td>\n",
       "      <td>None</td>\n",
       "    </tr>\n",
       "    <tr>\n",
       "      <th>238</th>\n",
       "      <td>2010_6</td>\n",
       "      <td>T-shirt</td>\n",
       "      <td>2010</td>\n",
       "      <td>None</td>\n",
       "    </tr>\n",
       "    <tr>\n",
       "      <th>239</th>\n",
       "      <td>2010_7</td>\n",
       "      <td>Day Ensemble âMiss No. 5â</td>\n",
       "      <td>2010</td>\n",
       "      <td>None</td>\n",
       "    </tr>\n",
       "    <tr>\n",
       "      <th>240</th>\n",
       "      <td>2010_8</td>\n",
       "      <td>Backpack [Left], Bag [Right]</td>\n",
       "      <td>2010</td>\n",
       "      <td>None</td>\n",
       "    </tr>\n",
       "    <tr>\n",
       "      <th>241</th>\n",
       "      <td>2010_9</td>\n",
       "      <td>Jacket and Trousers</td>\n",
       "      <td>2010</td>\n",
       "      <td>None</td>\n",
       "    </tr>\n",
       "  </tbody>\n",
       "</table>\n",
       "<p>242 rows × 4 columns</p>\n",
       "</div>"
      ],
      "text/plain": [
       "         ID                        Category  Decade Country\n",
       "0    1890_1      Dress (Presentation Dress)    1890    None\n",
       "1    1890_2                       Day dress    1890    None\n",
       "2    1890_3  Bracelet [lower], Belt [upper]    1890   Japan\n",
       "3    1890_4                     Vanity Case    1890   Japan\n",
       "4    1890_5                       Day Dress    1890    None\n",
       "..      ...                             ...     ...     ...\n",
       "237  2010_5            ShoesãNOVA Shoeã    2010    None\n",
       "238  2010_6                         T-shirt    2010    None\n",
       "239  2010_7   Day Ensemble âMiss No. 5â    2010    None\n",
       "240  2010_8    Backpack [Left], Bag [Right]    2010    None\n",
       "241  2010_9             Jacket and Trousers    2010    None\n",
       "\n",
       "[242 rows x 4 columns]"
      ]
     },
     "execution_count": 8,
     "metadata": {},
     "output_type": "execute_result"
    }
   ],
   "source": [
    "for dec in range(1890, 2011, 10):\n",
    "    get_items_per_decade(dec)\n",
    "\n",
    "ITEMS_DATA = pd.DataFrame(ITEMS_LIST)\n",
    "ITEMS_DATA"
   ]
  },
  {
   "cell_type": "code",
   "execution_count": 9,
   "metadata": {},
   "outputs": [],
   "source": [
    "ITEMS_DATA.to_csv(\"kci_metadata.csv\")"
   ]
  },
  {
   "cell_type": "markdown",
   "metadata": {},
   "source": [
    "# THE NEW YORK PUBLIC LIBRARY DIGITAL COLLECTIONS\n",
    "# German old master prints"
   ]
  },
  {
   "cell_type": "code",
   "execution_count": 96,
   "metadata": {},
   "outputs": [],
   "source": [
    "def get_items_per_page(page_num):\n",
    "    r = requests.get(f\"https://digitalcollections.nypl.org/collections/2b332a20-e136-0132-f347-58d385a7bbd0?format=html&id=2b332a20-e136-0132-f347-58d385a7bbd0&per_page=250&page={page_num}#/?tab=navigation\")\n",
    "    page = BeautifulSoup(r.text, 'html.parser')\n",
    "    items = page.find_all(class_=\"description\")\n",
    "    links = [i.find('a') for i in items]\n",
    "    urls = [(a.text, a.get('href')) for a in links]\n",
    "    return urls\n",
    "\n",
    "URLS = []\n",
    "for page_num in range(1, 5):\n",
    "    URLS.extend(get_items_per_page(page_num))"
   ]
  },
  {
   "cell_type": "code",
   "execution_count": 97,
   "metadata": {},
   "outputs": [],
   "source": [
    "def get_item_info(item_name, item_url):\n",
    "    try:\n",
    "        r = requests.get(\"https://digitalcollections.nypl.org\" + item_url)\n",
    "        page = BeautifulSoup(r.text, 'html.parser')\n",
    "        info_block = page.find(id=\"item-content-data\").text.replace(\"\\n\", ' ')\n",
    "\n",
    "        created = info_block.split(\"Date Created:\")[1].strip().split(' ')\n",
    "        created = int(created[2]) if created[1] == '-' else int(created[0])\n",
    "        medium_raw = info_block.split(\"Physical Description\")[1].strip()\n",
    "        medium = medium_raw[0]\n",
    "        idx = 1\n",
    "        while medium_raw[idx].islower():\n",
    "            medium += medium_raw[idx]\n",
    "            idx += 1\n",
    "        inventory_number = int(info_block.split(\"TMS ID:\")[1].strip().split(' ')[0].replace('TMS', ''))\n",
    "        digitized = int(info_block.split(\": Digitized\")[0].split(' ')[-1])\n",
    "        \n",
    "        item_info = {\"Inventory Number\": inventory_number, \n",
    "                    \"Title\": item_name, \n",
    "                    \"Medium\": medium, \n",
    "                    \"Date Created\": created,\n",
    "                    \"Date Digitised\": digitized}\n",
    "        img_url = page.find('img').get('src')\n",
    "        urllib.request.urlretrieve(img_url, f\"nypl_imgs/{inventory_number}.jpg\")\n",
    "        return item_info\n",
    "       \n",
    "    except Exception as e:\n",
    "        return e"
   ]
  },
  {
   "cell_type": "code",
   "execution_count": 98,
   "metadata": {},
   "outputs": [],
   "source": [
    "ITEMS_LIST = []\n",
    "\n",
    "for url in URLS:\n",
    "   ITEMS_LIST.append(get_item_info(*url))\n",
    "\n",
    "ITEMS_DATA = pd.DataFrame(ITEMS_LIST)\n",
    "ITEMS_DATA.to_csv(\"nypl_metadata.csv\")"
   ]
  },
  {
   "cell_type": "markdown",
   "metadata": {},
   "source": [
    "# The University of Manchester - The Museum of Medicine and Health"
   ]
  },
  {
   "cell_type": "code",
   "execution_count": null,
   "metadata": {},
   "outputs": [],
   "source": [
    "! pip install selenium webdriver_manager==4.0.2"
   ]
  },
  {
   "cell_type": "code",
   "execution_count": 126,
   "metadata": {},
   "outputs": [],
   "source": [
    "from time import sleep\n",
    "import os\n",
    "import logging\n",
    "\n",
    "from selenium import webdriver\n",
    "from webdriver_manager.chrome import ChromeDriverManager\n",
    "from selenium.webdriver.common.by import By\n",
    "from selenium.webdriver.chrome.service import Service"
   ]
  },
  {
   "cell_type": "code",
   "execution_count": 122,
   "metadata": {},
   "outputs": [],
   "source": [
    "logging.getLogger('WDM').setLevel(logging.NOTSET)\n",
    "os.environ['WDM_LOG'] = 'False'\n",
    "\n",
    "# Driver set-up\n",
    "service = Service(ChromeDriverManager().install().replace(\"THIRD_PARTY_NOTICES.\", ''))\n",
    "driver = webdriver.Chrome(service=service)"
   ]
  },
  {
   "cell_type": "code",
   "execution_count": null,
   "metadata": {},
   "outputs": [],
   "source": [
    "def get_items_per_page(page_num):\n",
    "    page_url = f\"https://www.digitalcollections.manchester.ac.uk/collections/historyofmedicine_mmh/{page_num}\"\n",
    "    driver.get(page_url)\n",
    "    sleep(1)\n",
    "    items = driver.find_elements(By.XPATH, '//div[@class=\"collections_carousel_item\"]')\n",
    "    urls = [i.find_element(By.TAG_NAME, 'a').get_attribute('href') for i in items]\n",
    "    return urls\n",
    "\n",
    "URLS = []\n",
    "for page_num in range(1, 4):\n",
    "    URLS.extend(get_items_per_page(page_num))"
   ]
  },
  {
   "cell_type": "code",
   "execution_count": 161,
   "metadata": {},
   "outputs": [],
   "source": [
    "def get_item_info(item_url):\n",
    "    driver.get(item_url)\n",
    "    sleep(0.3)\n",
    "    info_block = driver.find_element(By.XPATH, '//div[@class=\"panel-body\"]').text\n",
    "\n",
    "    inventory_number = info_block.split(\"Classmark:\")[1].strip().split(\"\\n\")[0].replace('.', '_')\n",
    "    print(inventory_number)\n",
    "    title = info_block.split(\"Title:\")[1].strip().split(\"\\n\")[0]\n",
    "    origin = info_block.split(\"Origin Place:\")[1].strip().split(\"\\n\")[0]\n",
    "    if \"Date of Creation:\" in info_block:\n",
    "        creation = info_block.split(\"Date of Creation:\")[1].strip().split(\"\\n\")[0]\n",
    "        creation = int(creation[:4]) if len(creation) > 4 else int(creation)\n",
    "    else:\n",
    "        creation = None\n",
    "    acquisition = info_block.split(\"Date of Acquisition:\")[1].strip().split(\"\\n\")[0]\n",
    "    acquisition = int(acquisition[:4]) if len(acquisition) > 4 else int(acquisition)\n",
    "    material = info_block.split(\"Material(s):\")[1].strip().split(\"\\n\")[0].split('; ')[0]\n",
    "    item_info = {\"Inventory Number\": inventory_number, \n",
    "                \"Title\": title, \n",
    "                \"Country of Origin\": origin, \n",
    "                \"Main Material\": material,\n",
    "                \"Date Created\": creation,\n",
    "                \"Date Acquired\": acquisition}\n",
    "    return item_info\n",
    "       "
   ]
  },
  {
   "cell_type": "code",
   "execution_count": 162,
   "metadata": {},
   "outputs": [
    {
     "name": "stdout",
     "output_type": "stream",
     "text": [
      "MMH_1970_76\n",
      "MMH_1970_117\n",
      "MMH_1970_264\n",
      "MMH_1972_2\n",
      "MMH_1978_104\n",
      "MMH_1978_133\n",
      "MMH_1979_132\n",
      "MMH_1982_6\n",
      "MMH_1984_86\n",
      "MMH_1985_40\n",
      "MMH_1994_10\n",
      "MMH_1999_121\n",
      "list index out of range\n",
      "MMH_2001_87\n",
      "MMH_2002_6\n",
      "MMH_2002_134\n",
      "MMH_2004_171\n",
      "MMH_2004_199\n",
      "MMH_2004_345\n",
      "MMH_2004_444\n",
      "MMH_2006_55\n",
      "invalid literal for int() with base 10: '19th'\n",
      "MMH_2007_41\n",
      "MMH_2008_112\n",
      "MMH_2015_27\n",
      "MMH_2021_1\n",
      "list index out of range\n"
     ]
    }
   ],
   "source": [
    "ITEMS_LIST = []\n",
    "\n",
    "for url in URLS:\n",
    "   try:\n",
    "      ITEMS_LIST.append(get_item_info(url))\n",
    "   except Exception as e:\n",
    "      print(e)\n",
    "      continue\n",
    "\n",
    "ITEMS_DATA = pd.DataFrame(ITEMS_LIST)\n",
    "ITEMS_DATA.to_csv(\"manchester_metadata.csv\")"
   ]
  }
 ],
 "metadata": {
  "kernelspec": {
   "display_name": "Python 3",
   "language": "python",
   "name": "python3"
  },
  "language_info": {
   "codemirror_mode": {
    "name": "ipython",
    "version": 3
   },
   "file_extension": ".py",
   "mimetype": "text/x-python",
   "name": "python",
   "nbconvert_exporter": "python",
   "pygments_lexer": "ipython3",
   "version": "3.8.6"
  }
 },
 "nbformat": 4,
 "nbformat_minor": 2
}
